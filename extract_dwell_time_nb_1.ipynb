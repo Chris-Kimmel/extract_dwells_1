{
 "cells": [
  {
   "cell_type": "markdown",
   "metadata": {},
   "source": [
    "# Extracting per-read per-position dwell-times from fast5 files\n",
    "\n",
    "The purpose of this notebook is to extract a dwell-time for each nucleotide position on one nanopore sequencing read.\n",
    "The dwell-times for the read are extracted from that read's fast5 file.\n",
    "\n",
    "This notebook is written very pedantically on purpose. It helps me learn, and someone might need to trace my steps.\n",
    "\n",
    "This notebook was written to be run with Python 2.\n",
    "\n",
    "## Background\n",
    "\n",
    "These are all good pages to learn about the fast5 files and the data they contain:\n",
    "* https://nanoporetech.github.io/tombo/resquiggle.html?highlight=fast5#tombo-fast5-format (official fast5 docs)\n",
    "* https://simpsonlab.github.io/2015/04/08/eventalign/ (brief high-level overview)\n",
    "* https://simpsonlab.github.io/2015/12/18/kdtree-mapping/ (just the first few paragraphs - info on raw signal data)\n",
    "* https://simpsonlab.github.io/2017/02/27/packing_fast5/ (nuts and bolts on fast5 internals)\n",
    "* https://portal.hdfgroup.org/display/HDF5/Introduction+to+HDF5 (intro to HDF5)\n",
    "\n",
    "(The blog posts on the Simpson Lab website are not about Tombo, but nanopolish. nanopolish is a similar tool to Tombo. The nanopolish analog of Tombo's \"resquiggling\" step is called \"eventalign.\") Fast5 files are really HDF5 files, so it helps to know about them.\n",
    "\n",
    "## Data source\n",
    "\n",
    "The `data` directory, next to this notebook, contains one fast5 file and one FASTA file. The fast5 file (which is in single-fast5 format, not multi-fast5 format) is an HDF5 file describing\n",
    "* the raw output of the nanopore sequencing device\n",
    "* inaccurate basecalls made during sequencing\n",
    "* the results of \"resquiggling\" the read to a reference genome\n",
    "\n",
    "The FASTA file in the `data` directory is the same reference genome to which the fast5 was resquiggled.\n",
    "The fast5 and FASTA file were copied from these directories on 7/28:\n",
    "* `/fs/project/PAS1405/GabbyLee/project/m6A_modif/sequencing_data/Trizol_A/01936724-8ae4-4a0f-99ce-c67f3a334c1f.fast5`\n",
    "* `/fs/project/PAS1405/General/Kimmel_Chris/RNA_section__454_9627.fa`\n",
    "\n",
    "The original fast5 was from natural HIV RNA harvested with Trizol, not from IVT RNA."
   ]
  },
  {
   "cell_type": "markdown",
   "metadata": {},
   "source": [
    "## Navigating fast5 files"
   ]
  },
  {
   "cell_type": "code",
   "execution_count": 155,
   "metadata": {},
   "outputs": [],
   "source": [
    "import numpy as np\n",
    "import h5py # standard Python library for working with HDF5 files - http://docs.h5py.org/en/stable/quick.html"
   ]
  },
  {
   "cell_type": "code",
   "execution_count": 3,
   "metadata": {},
   "outputs": [],
   "source": [
    "fast5_path = 'data/01936724-8ae4-4a0f-99ce-c67f3a334c1f.fast5'\n",
    "reference_fasta_path = 'data/RNA_section__454_9627.fa'"
   ]
  },
  {
   "cell_type": "markdown",
   "metadata": {},
   "source": [
    "Here's just a toy example of how we can navigate through HDF5 groups and read their attributes:\n",
    "\n",
    "(None of the groups `Analyses`, `Raw`, `UniqueGlobalKey` have any attributes.)"
   ]
  },
  {
   "cell_type": "code",
   "execution_count": 57,
   "metadata": {},
   "outputs": [
    {
     "name": "stdout",
     "output_type": "stream",
     "text": [
      "root-group subgroups: [u'Analyses', u'Raw', u'UniqueGlobalKey']\n",
      "root-group attributes: [u'file_version']\n",
      "\n",
      "group: Analyses\n",
      "\tsubgroups: [u'Segmentation_000', u'Basecall_1D_000', u'RawGenomeCorrected_000']\n",
      "\tattributes: []\n",
      "\n",
      "group: Raw\n",
      "\tsubgroups: [u'Reads']\n",
      "\tattributes: []\n",
      "\n",
      "group: UniqueGlobalKey\n",
      "\tsubgroups: [u'channel_id', u'context_tags', u'tracking_id']\n",
      "\tattributes: []\n",
      "\n"
     ]
    }
   ],
   "source": [
    "with h5py.File(fast5_path, 'r') as file:\n",
    "    print('root-group subgroups: {}'.format(file.keys()))\n",
    "    print('root-group attributes: {}'.format(file.attrs.keys()))\n",
    "    print('')\n",
    "    for key in file.keys():\n",
    "        print('group: {}'.format(key))\n",
    "        print('\\tsubgroups: {}'.format(file[key].keys()))\n",
    "        print('\\tattributes: {}'.format(file[key].attrs.keys()))\n",
    "        print('')"
   ]
  },
  {
   "cell_type": "code",
   "execution_count": 174,
   "metadata": {},
   "outputs": [],
   "source": [
    "# A useful function for peeking at HDF5 groups\n",
    "\n",
    "def explore_hdf5_group(hdf5_group):\n",
    "    '''\n",
    "    Given an HDF5 group hdf5_group, print info on its name, attributes, and subgroups\n",
    "    '''\n",
    "    assert isinstance(hdf5_group, h5py._hl.group.Group), 'Error: This is not an hdf5 group. Its type is {}'.format(type(hdf5_group))\n",
    "    \n",
    "    print('group: {}'.format(hdf5_group))\n",
    "    \n",
    "    print('attribute values:')\n",
    "    for key in hdf5_group.attrs.keys():\n",
    "        print('\\tattribute: {}'.format(key))\n",
    "        print('\\tvalue: {}'.format(hdf5_group.attrs[key]))\n",
    "    \n",
    "    datasets_and_subgroups = hdf5_group.keys()\n",
    "    print('datasets: {}'.format([x for x in datasets_and_subgroups if isinstance(hdf5_group[x], h5py._hl.dataset.Dataset)]))\n",
    "    print('subgroups: {}'.format([x for x in datasets_and_subgroups if isinstance(hdf5_group[x], h5py._hl.group.Group)]))\n",
    "    \n",
    "    # delete this: print('subgroups and datasets: {}'.format(hdf5_group.keys()))"
   ]
  },
  {
   "cell_type": "markdown",
   "metadata": {},
   "source": [
    "There are some nice hints at https://simpsonlab.github.io/2017/02/27/packing_fast5/ about what is stored where in this HDF5 file."
   ]
  },
  {
   "cell_type": "markdown",
   "metadata": {},
   "source": [
    "### Basecall_1D_000"
   ]
  },
  {
   "cell_type": "markdown",
   "metadata": {},
   "source": [
    "The dataset `file['Analyses']['Basecall_1D_000']['BaseCalled_template']['Fastq']` is the sequencing device's initial guess (pre-resquiggling) at the sequence of the read. Let's take a look"
   ]
  },
  {
   "cell_type": "code",
   "execution_count": 96,
   "metadata": {
    "collapsed": true,
    "jupyter": {
     "outputs_hidden": true
    }
   },
   "outputs": [
    {
     "name": "stdout",
     "output_type": "stream",
     "text": [
      "@01936724-8ae4-4a0f-99ce-c67f3a334c1f runid=0bc4549742d8f2e47ef1c96ae611fbfe6c1c6847 read=28507 ch=475 start_time=2020-01-08T12:24:42Z flow_cell_id=FAN05606 protocol_group_id=010720_HIVRNA_SSIV_multioligos sample_id=010720_HIVRNA_SSIV_multioligos .poretools_tmp/single_fast5_A/0/01936724-8ae4-4a0f-99ce-c67f3a334c1f.fast5\n",
      "AGACCAGAUAGGGCAAGAGAGCUCCUGCUAACUAGGAACCCAUGCUUAAGCCUCAAUUUGGCUUACACCUCUGAAGUGCUCAAGUAGUAUGUGCCCGUCUGUUGUGUGACUCCGUGGUAACUAUAGAGAUAUCCCUCAGACCUUUUAGUCAGUGUGGAAAAAAUUUUUAGCAGUGGCGCCCCGAACAGGACUUGAGCGAAAGUAAAUGAGAGGAGAUUUGCGCAGGACUCGGCUUGCUGAAGCGCGCACAAUAAGAGCGCGAGGGGCGGCGACUGGUGAGUCGCCAAAUUCUGACUAGCGGAGGCUAGAAGGAGAGAUGGGUGCGAGAGCGUCGGUAUUAAGCGGGGAGAAUUAGAGAGAUAAUAAAUGGGGAAAAAUGGUUAAGGCUCAGGAAAGAAAACAAUAUAAACUAAACUACUAACAGUAUGGGCAAGCGAGAGCUAGAACGAACUUCGCGGUUAAUCCUGGCCUUUUUUAAAGAGUUUCGGAAGGCAAGUAGACAAAUACUGGGACGGCUACUACUAUACCUCCUUCGGACAGGAUCAGAAGAAACUUAGAUCAUUAUAAUACAAUAGCAGACCGUUGUGUGCAUUUUAAAGGAUAGAUGCUGAAGAUUUCGAGGAAGCUUAGAUACAAAGAUAGAGGAAGAGCAAAACAAAAGUAAGAAAAAGGCACAGCAAGCAGCUAAGCUGAUACUCAGGAACAUAGCCAGGUCAGCCAAAACUACCCAAACAGUGCAGAUUCCAGGCAAUGGUCACAUGCAGGCCAUCACCAAGAACUUCAAUGCAUGGGUAAAGUAGAGGAUAGAAGAGAAGGCUUCAGCCCGAGCAGGAGGCAAUACCCAUGUUUCAGCAUUACAAGGAAGGAGCCACCCUCAAGAUUUAAAUACCGCGCUAAACCAGAAAGGGACAUCAAGCAGCCGUGCAAAUGCUAAAGAGACCAUCAAUGAGGAAGCUGAAGAAUGGGAACAGAUUGAUAUCCAGUCGCACCAGGCCUAUUGCACCAGGCACCAGAUGAGAGGAACCAAGGGAAGUGACAUAGCGGGAACUACUAGUACCGGGAACAAUAGGAUGGAUGACACUAUAAAUCCACCGUCCCAGUAGGAGAAAUCUAAAGAUGAUAAUCCUGAACUUUAAAUAAAAUAGUAAGAAUGUAUAGCCCACCAGCAUUCACUGGUUUGACAAGGACCAAAGGAUCCUCUAGAGACUAUGUAGACCGAUUCUAUAAAACUCUAAGAGCCGAGCAAAGCUUCACAGAGGUAAAAAAAUAGCUGGAUAGAAACCUUGUUGGUCCAAAUGCGAACCCAGAUUGUAAGACUAUUUUAAAAGCAUUAGGACCAGGAGCGAACCAUUGGGAAGAAAUGAUGACAGCAUGUCAGGAGAGUGGGGACCCGGCCAUAGCGAAGAGUUUUGAACGCUGAAGCAAUGAGCCAAGUAUCAAAUCCAGCUACCAUUGCCGGAUACAGAAAGGCUGCUUUAGGAUCAAAGAAAGACUGGCUAAGUGUUUUAAUUGUGGCAAGAAGGCUCAGCCAAAAAUUGCAGGCCCCUAGGAAAAGGCUGUUGGAAAUGUGGAAAAGGAAAGGGACACCACCAAAUGAAAGAUUGUUGAGACAGGCUAAUUCUUUAAGAAGAUAUAGGCCACCCACCGAAGGCCAGGAAUUCUUCAGAAAGACCAGAGCCAGCCCCUACCAGAAGAGAGCUCUUCAGGUUUGGGAAGGCAGAGACAACAACUCCACAAAGAGGAAGAGCCGAAUAGACAAGGAACUGUAUCUCUGCUUCCAAGAUUCUUGGCGGUGACCCCCUCGUUUCAAAGUGGGGGCAAUUAAAGGAAGCUCUAUUAGAUACAGGAGCAGAUGAAACGCAGUAUAGAAGAAAUGAAUUUGCCAGGAAGAUAGAAACCAAAAUGAUAGGGGAGGAAUUGGAGGUUUUAUCAAAGAAAGACAGUCGAUCAGAUACUCAUAGAAAAUUGUAGACCAUAAAGCUAUAGGUACCUCCAAGUAUUAUAGAAGGACCUACACCUGUCAACAUAAUUGGAAGAAAUCUGUUGAUCAAGAUUGGCUGCACUUUAAAUCUUUCCCAUUAGUCCUAUUGAGACUGUACCAGUAAAAUUAAAAGCAAGGAAUGGAUGGCCCAAAAAAGUUAAACUGGCAUGACAGAAAGAAAAAUAAAAGCAUUGGUAGAAAUUUGUGAGAAAUGGAAAGGAAGGAAAAAUUCAAAAAAUAAAGGCCUGAAAAUCCAUCAAUACUCCAGUAUUUGCCAUAAGAAAAAGACAGUACUAAAUGGAGAAAAUUAGUAGAUUUCAGAGAACUUAAAUAGGGGAGAGAACUCGAGAUUUGGGAAGUUUCAAUUAGGAAUACCACACCAGGUUAAACAGAAAAAAAUCAGUAACAGUACUAGACGCGGGCCGAUGCAUUUCCGGUUCCCACAAGAUAAGGGAUUCAGGAAGUAUACUGCAUACCAUCCUGGUAUAAACAAUGAGACCACCAGGGAUAGAUAUCAGUAUAAUGUGCUUCAGGGAUGGAAAGGAUCACCAGCAAUAUUCCAGUGUAGCAUGACAAAAAUCUAGAGCCUUUUGGAAAACAAAAUCCAGACAUAGUCUUCAUCAAUACAUGGAUGAUUUGUAUGUAGGAUACUGACCAAAGAAAUAGGAAAUAGCAAUAGAACAAAAUAGAGGUAUUAGACAUUUGUUGAGGGGUGGGAUUUACCACACCAGACAAAAACAAGAAAGAACCUUCAUUCCAUUGACGGUUAUGAACUCCAUCCUGAUUGGUGGACAGUCAGCCUAUAGUGCUGCCAGAAAAGGACAGCUGGACUGUCAUUGUUGUACACAGAAAUUAGUGAAAAUUGAAUUGGCCGAUAAGAUUUAUGCAGGAUUAAAGUUAAGGCAAUUAUGUAAACUUCUUUAGGAUCAAAGCACUAUCAGAGGUAAGUACCACUAACAGAAGUGGCAGAGCUAGAACUGGCAGAAAACAAGGGAGAUUCUAAAAAGAACCAAGUACAUGGAGUGUAUAUGACCCCAUUUGCAGACUUAAUAGCAGAAUACAGAAGCAGAGGCGAGGCCAAUGGACACAUAUCAAAUUUAUCAGAGCCAUUUUAAAAAUUUGAAAACAGGAAAAAGUAUGCAAGAAUGAAGGGUGCCCUACAUUAAUGAUGUGAAAAACAAUUAACAGAGGCAGUACAAAAAUAGCCACAGAAAGCAUAGUAAUAUGGGGAAGACUCCUCCUAAUUUAAAUUACCCAUACAAAGGAAACAUGGGAAGCUAGGUGGACAGAGACUGGCAAGCCACCGCUGAUUCCGAGUAGAGUUUGUCAAAUACCCCUCCACUAGUAGAGUUAUGGUACCAGUUAAGAGAAAGAACCCAUAAUAAGCAGGAAAGAAACUUUCUAUGUAGAUGGGGGGCAGCCAAUGGGAAACUAAAUGGGAAAGCGGAUAUGUAACUGACAGAGGAGACAAAAAGGUUGUCCCCAACGGACACAACAAAACGGAAGAGACUGAGUUACAAGCAAUUUCAUCUAGCUUUGCAGGAUUCGGGAUUGGAGUAAACAUAGUGACAGACUCACAAUAUGCAUUGGGAAUCAUCAAGCACAACCAGAUAAGAGUGAAUCAGAGUUAGUCAGUCAAAUAAUAGAGCAGUAAUAAAAAGGAAAAAGUCUACCUGGCAAGUACCAGCACAUAAGGAAUUGGAGGAAAUGAACAAGAAAGAUAAUUGGUCAGUGCUGGAAUCAGGAAAGUACUAUAUUUCAUAGAUGGAAUAGAUAAGGCCCUAGAAGAACAUGGGAAAUAUAUUUCAGUAAUAGCAGAAAUAUGGCUAGUGAUUUUUCAACCUACCAUUGUAGUAGCAAAAGAGAAAUGGUAGCCAGCGUUGAUAAAUGCAUCAGCUAAAAGGGAAGCCAUGCAUAGACAAGUAGACUGUAGCCCAGGAAUAUGUGGAAGAUUGUCAUUUAGAAGGAGAAAAGUUAUUAGGUAGCAGUUCAUGUAGCCAAGUGGAUAUAUAGAAGCAGAAGUAAUUCAGCAGAGACAGGCAAGAAACAGCAUUCCUUUAAAAUUCAGCAGGAAGAUGGCCAGUAAAAACAGUUCAACCAGACAAUGGCAGCAAUCACAAGUACUACAGUUAAGGCCGCCUGUUGGUGGGCGGGGAUCAAGCAGGAAUUUGCAUUCCCUCAAAUCCCAAAGUCAAGGAGUAAUAGAAUCAUAUGAAUAAAGAAUUAAAGAAAAUUAUGAUAGGACAGGUAAGAGAUCAGGCUGAACAUCUUAAGACAGCAGUACAAAUGGCAGUAUUCUCAUCCUCAAUUUAAAAGAAAGGGAUUGGGAUGCAGUGCAGGGAAAGAGAAUAGUAGACAUAAAACAGCAUCAGACAUCAAAACUAAAGAAUUACAAAAACAAAUUACAAAAAAUUCAAAAUUUCGGGUUUAUUACAGGACAGCAGAGAUCCAGUUUGGAAGGACCAGCAAAGCUCCUGAAAGGUGAAGGGGCAGUAGUAAUCUACAAGAUAGCAGUGACAUAAAAGUAGUGCCAAGAAGAAAAGCAAGAUCAUCAGGGAUUAUGGAAAACAGAUGGCGGUGAUGAUUGUGGCAAGUAGACAGGAUGAGUUAACACUGGAAAAAGAUUAGUAAAACACCAUAUGUAUAUUCUCAAAGGAGAGCUAAGGACUGGUUUUAUAGACAUCACUAUGAAAGUACUAAUCCAAAAAUAAGACUUACAAGAAGUACCCACUGGGAUGCUAAAUUAGUAAUAACAACAUAUUGGGGUCUGCAUACAGGAGAAAGAGACUGGCAUUCGAUGAGGGAGUCCAACAGAAUGGAGGAAAAAGAGAUUCUAGCACAAAGUAGACCCUGAUCUAGCAGACCAACUAAUUCAUCUGCACUAUUUUGAUAUUGUUUUUCAGAAUCUGCUAUAAGAAAUACCAUUAGGACGUAUAGUUAGUCCUAGGUCGUGAAUAUCAAGCAGGUCACAACAAGGUAGGAUCUCUACAGUACUUGGCACUAGCAGCAUUAAUAAAACCAAAAACAGAUAAGCCUUUGCCUGGGUGUUUAGGAAACUGACAGAGGACGUCGGAACAAGCCCCAGAAGAGUACCAAGGGCCACAGAGGACCAUUCUGGCCGAAUGGACACUAGAGCUUUUAGAGGAACUUAAGAAGUGAAGCUGUUGAGACUUCUCCUAGGAUUUGGCUCCAUAACUUAAGGACAUAACCGAAACUUACGGGAUACUUGGGCAGGAGUGGAAGCCAAUAAGAAUUCUGCAACAACUGCUGUUCAUCCCAUCACCAGAAUUGGGUGUCGUUUUGAUCAGGCUCGACAGAGGAGAGCAAGAAAAUGGAGCCAGUAGAUCAAGACUAGAGCCCUGGAAGCAUCCAGGAAGUUCAGCCUAAAACUGCUCUGUACCAAUUGCUAUUGUAAAAAGUGUGUUGCUUUCAUUGCCAAGUUUGUUUAUGACUGGGGCACUAGGCAUCUUCCUAUCGAGCAGGAAGAAGCGGAGACAGCGACGAAGAGCUCCAUCAGAACAGUCAGACUUCAUCAAGCUUCUCAACAUCAAAGCAGUAUAAGUAGUCACAUGUAAUGUUAACCUAUAAUAGUAAGCAAUAGUAGCAUUAAGUAGUAGCAAUAAUAAUAAAUAAUAAGAGUUGUGUGGUCCAUAGUAAUCAUAGAAUAUAGGAAAAUAUUAGACAAAGAAAAAUAGACAGGUUAAUUGAUAGACUAAUAGAAAGAGCAGAAGACAGUGGCAAUGAGAGUGAAGGAGAAGUAACCAGCAUUUGUAGAGAUAGGUGAGCUGGCGGGGCACCAUGCUCCUUGGGAUAAACUGAUGAUCUGUAGUGCUACAGAAAAUUGUGAGGACCACAGUCUAUUAUGGGGUACACCUGUGUGGAAGGAAGCAACCACCAUCAUUUAUUUUGUGCAACAGAUGCUAAAGCAUGAAUCACAGAGGUACUCAUAAAUGGUUUGGGCACACUUCAUGCCAAUGAUAUCCACAGACCCAUCAUCCACAAGAAGAAGUAGUAUUGGUAAAUGUGACAGAAAAUUUAACAUGCGGAAAAUGACAUGGUAGAACAGAUGCAUGAGGAUAUAAUCAGUCUGGGAUCACAAAGCCUAAAGCCAUGUGUAAAAUUAACCCCACUUUGUUGCUAGUUUAAAGUGCACUGAUUUGAAGAAUGAUACUAAUUUACCUGAAGUAGCAGGAGAAUGAUAAUGGAGAAAGGAGAUAAAAAAACUGCUACUUCAAUAUUCAGCACAAGCAUAAGAGAUAAGGUGCGGAAAGAAACGCAUUUUUUAUAAACACUGAUAUAGUACCAAUAGAUAAUACCAGCUAUGUAGGUGAUAAGUUGUACUCCAGUCAUUACACAGGGCCUGUCCAAAGGUAUCCUUUGAGCCAAUUCCCUGCUGCCCGGCUGGUUUUGCGAUUUUAAAUGUAAUAAGACGUUUUCAAUGGAACAGGAGGACCAUGUACAAUGUCAGCACAAGUACAAUGUCUACAUGGAAACACAGGCCAGUAGAGAUCAACUCAACUGCUGUUAAAUGGCGGUCUACAGCAGAAAGAAGAUGUGGUAAUCGAUCUGCCAAUUUUUCCAGACAAUGCUAAACCAUAAUGGUACAGCUGAACACCGUAGAAAUUAAUUGUACAAGACCCAUCAACAAAUACAAGAAAAAGUAUCCGUAUCCAGAGGGACCAGGAGAGCAUUUGUUACAAUAGGAAAAUAGGAAAUGAGACAAGCACUGUAACAUUAGAAGAGCAAAAAUGGAAUGCCACUUUAAAACAGAUAGCUAGCAAAAUUAAGAGAACAAUUUGGAAAUAAUAAAACAAUAAAUUCGAAGACAAUCCUCAGGGACCCAGAAAUUGUAACGCACAGUUUAAUUGUGGAGGGAAUUCUCACUGUAAUUUAACACAACUGUUUAAAACAGUACUUGGUUUAAUAGUACUUGGAAGUACUGAAGGGUCAAUCAUCAUAAAGGAGAAGUGAUCACAAAAACACACUCCCAUGCAGAAAUAAAACAAAACAUUUAUAAACAUGUGGCAGGAAGUAGGGAAAAGCAAUGUUGCCCCUCCAUCAGUGGACAAUUAGAUGUUCAUCAAAUAUUGAAUUGCUAUUAACAAGAUGGUGGUAAAUAACAACAAUGGGUCCGAAGAUUUCAGACCUGGAGGAGGAGGCGAUAUGAGGACAAUUGGAGAAGUGAAUUAUAUAAAUAUAAAGUAGUAAAAUUGAACAUACAUAUAGGAGUAGCACCCCACAAGGCAAAGAAGAGUGGUGCAGAGAAAAAGAGCAGUGGGAAUAGGAGCUCUGUUCCUUUGGGGGUUCUUGGGAGCAGCAGGAAGCAUGGGCGUAGCGUCAAUGACGCUGACGGUACAGGCCAGACAAUUAUUGUCGUGAUAUAGUGCAGCAGCAGAACAAUCUUGCUGAGGCAACUGAGGCGCAACAGCAUUUAGCUGCAACACAGUCUGGGGCAUCGCAGCUCCAGGCAAGAAUCCUGGCUGGAAAGAUCCUAAAGGAUUACAGCAUCCUAAAGGAUUUAGGUUGCUCUGGAAAAACACUCUGGCCUUUGUUGUGCCUUGGAAUGCUAGUUGGAGUAAUAAAUUCUGGAACAGAUUUGGAAUAUUCGACCGGGAUGGAGUGGGACAGAGAAAUUAACAAAUUACACAAGCUUAAUACCACUCUCCUAAUUGAAGAAUCGCAAAACCAGCAAGAAAAGAAUGAACAAGAAUUAUUGGAAUUAGAUAAAUGGGCAAGUUUGUGGAAUUGGUUUUAACAACAAUUGGCUGUGGUAUAAAAUUAUUCAUAAUGAUAGUAGGAGGCUUGGUGGGUUUGCAGAAUAGUUUUUUUAAUUGUACUUCUUGGUGAAUAGAGUUGGGCAGGGAUAUUUCAUUAUCGUUCAGACCUUCCUCCAAUCCUGAAGGGGACCCGACAGGCCCGAAGGAAUAGAAGAAGAAGGUGGAGAGACAGAGACCAGAUCCAUUCGAUUAGUGAACGGAUCCUUAGCACUCUAUCUGGGACGAUCUGCGGAGCCUGCCUCACCGCUUUCCUCGCUAAGAGACCUACUCUUGAUUGUAACGAGGAUUACUGUGGAACUUCGAGGAUGCAGGUGGGAAGCCCUCUAAAUAUUGGUGGAAUCCUCCACGGUAUUGAGUCAGGAAGGAAUUAAAAAAGAAUAGUGCUGCUAACUUGCUCAAUGCCAAGCCAUAAAGUAUAGCUGAGGACAGAUGGGUUAUAGAAGAACAAUAAGCUUAUAGAGCUAUUCGCCACAUACCUAGAAGAAUAAGACAGGCUUGGAAAGGAUUUUGCUAUAAGAUGGGUGGCAAGUGGUCAAAAGUAGUGUGAUUGGAUGGCCUAUUGUAAGGGAAAGAAUGAGACGAGCUGAGCCAGCAGCAGAUGGGGUGGGAAGAGCAGUAUCGAGACCAAGAAACAUAGAGCAAUCAAGUAGCAAUACAGCAUAUACAAUGCUGCUUGUGCCUGGCUAGAAGCACAAGAGGAGGAAGAGGUGGGUUUCCAGUCACGGUACCUUUAAGACCAAUGACUUACAAGGCAGCUGUAGAUCUUAGCCACUUUAAAAGAAAAGGGACUGGAAGGGCUAAUCACUCCCUGAAGACAAGAUAUCCUGAUCUGUGGAUACACCACACAAGGCUUCCCUGAUUGGCAGAACUACACUACAAGGGCCAGGAGGGGUCAGAUAUCCUUGGAUCCUUUGGAAUGGUGCUACAAGCUAGUACCGGUUGAGCCAGAUAAGGUAGAAAGAGGCCGCAAAGGAGAGAACACCAGCUUGUUACACCCGCGUGAGCCUGCAUGGAAACAGAUAGACCCUGAGAGAGAAGUGUUAGAGUAGAGGUUUGACAGCCGCCUAGCUUUCAUACGUGGCCCGAGAGCUGCAUCCGGAGUACUUCAAGAACUGCUGACUCGAGCUUGCUACAGGGAUGGCCGCUGCUUUCCAGGGAGGCGUGGCCUUGGCGGACUGGGAGUGGCGAGCCCACAAGAUGCUGCAUAAGCGGCUGCUCUUGCCUGUACUGGGUCUGGUUAGACCAGAUCUGAGCCUGAAGCUUCUGGCUAACUAGGGGAACCCACUGCUUAAGCCUCAAUAAGCUUGCCUUGAGGCUCAAAAAAAAA\n",
      "+\n",
      "-3*-'112.'#%$%#&*$7@96))+))')10,7-643.39(#''*)'7<8:-1+'/1%&&&.'(+#\"(.%'3027?<9-.,1C;+)'((.)9;9412,%232--%*&+.('$)##%%+3220(/)*63*-$%%''#%0:4.*))'*-10).25'&*/99>BAB8*+(5004%83(0/5+)*)/*).6;51,,)-1210115:3*))'&47:77335+&'%'(.).982('**0.3.+65AG1:&-630.''&%*,())&&%'+/*.3))50/14+*+*16&%%05997--+/)%*55-++4-8376553,1152:<9758705208>:3.,$&*8?:/B@G;7(%%%76@B82/0%5-+&&$$$--)-'//545501&+473-065*$,(16435.9633**,.%/5100==42-$##$('-052('(76;;;950'8:-,)5;@?-2'&$&(+#%(%-5312*:+*.)0&*':-(%&27343)$'(9651.'%%,'.96159;8,*&+5:3))'&($$%%)&((#%+$&%$$$%//7/.91++8;BGEAA@*1,0622&&*58364*&6;<93.-,0&&%$%10)'42&&''%&4;>>>636:67.&%#%'3/-&%&$#*1?97(.%677,$'//;5401=:6A999>:669---444=3($*-8<A<>73,**-+'%*(-''%*/4/.5;1+$%%($)2/+&$'.--(0312/,816/3)&%&$%'*,,(-051+).2;)'')%+()-1.34%%''&$#'+>;7%&((&&('25;:6,/'00%35')/'#'6?C<.**$&+('+5?B5&7..30*+-*$%+9-$#(&&+2'()%%'146++&&*)/+&&,98/(#%''()-((72'&%$'+-$'$+3),&(-11+++($#.+&)(()*$('%%6788:.(&*8,;,0'&%$/27885:$.34C3)1(.330:7<7;41332(*%##/461).5;(%%'806''#$-(&&*0.#$%#&*+31722/0<60)%/5;:(#$,(;;5<6:2/4.++0+.4;:661-86&&%$((%?A31.'#&'7;)#'$%+19::21229:234<1/0,(#$$$-+*&)%$#+&#&'1+&:/'3=,7;;:;(-)()20.%'(3<7'-$),)',*027&06999)+1+*./4336-,.0*97+()8-631,/##'/13'%(*6)34=858=994015$&))%0.8:9<-)$763..:-4287'(5-5;=CC5&$%%;=7//*2340',.&+)(#())A?:94./25443-$$$/4>5(.5?==7.)-*044?<:(/00/14898932;<?945-*..64/*+5)3:CE5CC,-.#2>89,*>0)597415-,-9//>>I7><;54@>>9656522,,9,?746&'.+&/<3/11*('6,'$\"%$%+/$$07;></,)%$.5G47636-->CC,/-)3-)$*)$+-2)8)1.3&&+2&%$/164765=62*)1,,&&''3,4>/(+,2<5;7?8702&$$),.0/9791$37984(*&43>:??92($&221206.,**--,*0*+-2&$,44>AD=44;>>977=@><6:239AA@A=66625273'#%'&042>DAC=;C51-10%*)$.34;888;)&+*%-&$#$&((&(($&#',3&#&51()&$%&25-@5=755+,$'(*(+$$)83,&887$%)5242.*$$)+&,:@401559/#**+/6542,.-4('&$$24(<52(&$&%$%)(#&&%1/(',,453-.&)(&(.7-46;7:,).563+,'*&/&#(%)($2465(#&&%$$($$22.00.%$&$)&$$((()&%066/64694;2/A>6<$)&&**/,194/))741;9>0>2492'$$#'$$(&*&5;?-@@A43>>7%:663*3A32.(-$:899757>>>400.-)-./+*.<>3.)54;<1;:695'*5=2%%0497,,&$>:98=.94-,4//*+39;:;+43%%52231'8>P>9<?6)5>1%&%(.*'082..:.)%0%&)5153(''$)*884/286/.++232*&-6>=CB0<;5:@7%&%979/6C:75;+((-'.7797$+**,<51,3%-56742+23;<;8242A<53:20351226..**+579675(25*,83;634<>>ERA=B9/-',53.#%(&-&'(',56<@??.9>FH<7%)2280::7663473++56?=92+:9;487*%8:==B@A+1.-08=782$%$(&/765389:5572)'()6.,076)<::/$8620/)$0:;::,022-43?%)@754,/41132234.43)3777+&%-14:==>;>6221(**)/(792)(&/+-;;9-'&'./592.&4-03%)&41)7737%%%%'&%//'*2/-(9:===?A?E5+'8:77,/62%$$*5.&%%)1.346@17(3(,**4(:7)45+$.%'1)/+,((/3)&%%-+*&42-4-,202)&$'8<%(&&,:3-1265.%%)1.2))+(02.3/7<,&7:9:44.5,)'&$*30&$&$*#-'9710;274-/4:&(0+-&$*++&1+%5%(444.'($)9;>8:CBD.(*-=<514:5:7/,565&26555*,49>:81+29/%%**5+*+65-+%$%1.3?57'7:6?83*$::0.$&(53/0.081/'''&33$$$#'+6.-)-8AC?=966)27+0*#$$'%403/($/4046)*)1<74892'%&%%(%)-1.0@:,26;;;*$,521;6'#$&#$&''03*)+:<:+&%+/-4<43+&30--3&031-%%$$&3-36<779<>6/,1894530%&$46;A=.3<55@??7AC;3>67-).($*'.$#%$'98,*)185:0.;:99'98=.-154-(,04'4>43$%&$&-.7+&./,,1,*&%%-0.794,-;8)7;;9+&)+'+$3<*'./2%5*)+42++$*9'5+'(71$4222?:7739&-.%%,-.75,(',:@?51&(-1289754$(,+/6975/%57;??D2(&&+%'670-*,2=02<9781/1;33:7***'$#\"427332*41,)()1754/(27<;/*#&$.52&1-380))1/72+$+*+'-(+3'6%7=2(=:C77,,.;*A<?CBB,$(',811*'+/68>@A>52::3,769981*2<17968;&%%))%945.:98;8:77::;:4=3-)1/.3,59/&65')-%%&'+59<3)*2454%/2''$8;89;3/)668(4;1(''-'3''&%%)37::+./5;71($%26:AE>?<826+-=:%%)/,++70<21..&,*$*3-7718+&&*&$%&1+6*$*'36/$>;:9,+885,<>?5317324+''(),)'($645;*(/*.30+5))%/6/7:5>6663040(,&'##%'+1=43C7@?=1(%)%-,;7+6999%?5<74/8;95377$=K?<$1-112**A@=BG:/,1,))-00.,+8?7724/(%'40-:=?:58(472')02,&*'3654-1+++430-*213143;6722///2&,)+2/158++'&)$(/-',(#$///6476(&6<8;9'4&':?EF@4+1882),784$%'.278:1;8.*+2-/<@=-$&+)-68'*432209;;212+*/75<;0.73.9E919>@*75++574.,(2?:$&089<58737318:;;>A66+(+,36/.*+*,()%'.)(&&,%$*+$4?8<23>:1:==DA>894%&/)):>6243+%'')1-155&64=:(885@B<;58;9:)'*%+--$#-+8:25411)+641A@@08:(#)5297;<-&//1;.//+$(%,$$%188984%##25(''('*=<)1.05841*+-+,-454<'+'''73+%1-2469@AA-(1/,&*)447703%-&$&272'$&144#&'%%%'156<8;9??@:962.7,&%(:9;.055473)22(%,'3-+-12//%&'*58%9976--%%#%%%,1(%33(-9734:.;82,$*2.+)'$'/-,.24365((%/51,6:83(#,-=55(3?<:;B<<7,$1402-<36<A7A?<=7@>=;72432043,()&46;=4(%%1+28<0;@<4:<<5--=7887%;5;'((&$*+767/%'.0)((''&&*$$*$%-:@.((+%96'-.7/0,%(&&&845)1'5<4+-.?@?:?K7A9?A:9;8&))1/'(7&%'7<=6./.09:?53/0..39;9516188+((.%2888184@5>6=<85A7<BA@:39$&$$%0/,/8656+,%&2*))7;649:'%)&'&''&(53(+'/-845<;;:(.11%91**(*321(-&%&,,-0-4@CF6744,-.3500)+#%#$*2.)2(;;A:++'39?=946)&7./--01)%&,200'&)15%&%%,3.--46)72?@12-7/./334446+&$49>??>=.%%'>>=;0-/-?;5*,.&647(-204;22074;=78E98-*339;643)'29=:@DA421*%%*-7,627/..04;<=-0,(59432$&$'&19720$$)*.1-)('29;@A43:=?76)326'3<>@=634=:::7:6<8>7:;86?4;;99<=4=;;10/'-,5;>93(,93-+955?=:=78>9CI??7(9('%''%'.2<?FH6G9;:8.7>:>AA=<C;6+('3+$,'05'-&':0-5'%(3*7,*12-&*1$&08443(:8;40+++12-0>;@83)*''-28;0<=+(1#&8'%'&&$$;5<=0.('830%*(9E;5=579993679<=65/-(('%$4)58748=1(-6:B76@7220;<;>94=95+))4;,2(*(&&%/.6,)&./$#%33?;8</,;;ABBGH;8<54%%(0323+*2<2/694%1+991&%&.0-?B<415711(26:764+:;25661<39??:7'1?73/6())=:::5&7,+3))-7;:==6))(%'&644*.9:3/(;679=;,'%441)$$)5>=80288;94**-'$#%%$'055/)0;A61(,%+)1:76)-22/46#$05<<>@8)*(//.:=865/0?B==7>=;:9791((&)01,+&.51<3*)+,F>G?6:<9;8>:62)%#$(.:;A4;..15;1%3040,1/)))''4202.+(.0(0*#%)&'$&###'&-;859:3/&'.3?;>:-1(+*;A::97///-:5($*1539<;;68*.)4-'+-%()(&)0*(*&')&3)5:3%,++&%(,;;--,)###$(><8($$#&&8D89)*(00==>08<716=>3()1+(:8/:=@@:-&52.%%*)&0?7663(1-.'(2-$'$#(6(+;;;.-45+68)*1+&033,')@A$)-/4,,,+),25<'7892421210%36;2*=4??=53-<4-*&43C>>6,).=??<.(-+37403>9+.(.&)33694,,:6,*$-,&)178:0624/-.:759@ABA86&3/'<;4@,5+*./1)20550*3%)($$*3%%%%'(%1)((%5A=@/*'-0-.&(%&&/+579<;47164%(+75;=<?C8(,%430.'%%5/64;8<<;%&'&=A=1;5+,./3?:0*3,+((&&%)),.....3-(./7A355+&)*&.0%3;+%-&868.11./*$$'694,/+-+')78?>0..,3;)65.77)/42;72/.%/30/--*%+2).185036.=924*,869972'(%62553*(-1289885%.&286485%+3((($%#+39?==9>9030,>;68-++20*4966854&%'17>5+,-4,(.16;7687(**0/:5.19@?/2)&''+*+,%'443'.$*57124(+*&%)))%(,'(&\"&,%',.%(&')):A;/,&&&51-%'14(=>/.84+('%%16?=?4:;8/*\"*-$$%-+(44'-+-')+'+06:77$91,+232-/-.88,2-0(%#,%'(%$$%*'6755++.$41./0/:74=0/6C&8)$),)$)$$$%4/./*&&'##'463/1$,-%%.1'#$##&)14654&%%+;23$'-)+546.*4/+,+2$+&#$%$&/1(5>?70;;3001716980'6'*-')887(0%')(&'(&&+,:?>?6<41,&)25:8<=>;=770+(01/4;,+&*%%'%&29,(.7914#%&'&%'.:;;<=058.081.(233-*)5/892,$%&%330*)+%.67.3:<B77&*))*.&-)&$+6345,;79538---&)(-%%'%&6)+.,)*6376+/.54**--903:49/,33.166538:90/-+'%*%+')<1+*(&2357.--'03.'-3*5544345+'$$)++89;,*+0&%%1'(/2457=:9%$76-0007<8**/*)037;664/')686*)032%(,11@5/124.08+*%%)2(97,&()-/'1&24,='14)'((('2--..-+&%'(&(/9240,0;$''$&(,;-5,6-(55.''(45005(,/0219<;1)'+20.3(5*)))&0/-65($(524=796./82;;43'(/23:7.-%+44,.%&%33&&&(%,/<5/%%#+146:5-2**)$2(.+($'75A</?2&$$&+)**('6.*;.%$#%*//3;@44.1=4652-(:;7*%$,89).245331''$$%&9<:=)558*'1:;@A7+12'.-<7=);0,+'&%%&&$%)8?@@<955(,3*%&&(+6/=83+(23457>643.?7;98?><>/4530.3(,798'1.//66+-7;?<0.,424331++%&(-57>><<3'8@432+'99'./;8830=>..,*+.1-/$0510/6<<;;36=:5320-.):,300(%/58945.+,-15<<>B6%)55&.21/&%%2:6@9770++3899:911+33#',()3:8(()1*'%%(*-7<2*,+9@=<<1>=2')%#*)+*>7:58606<6)-*0389,2,.)$'&<:6000$#,'--377+?;:DB95'&#*+0/-',341&0.-*3/9854..339;*$&.,3:C9:7626./.&$$%&'''$%0@0>272'$%)223&%$$((+*(61*',*::;:854:99455)'(&)',%-6/.-)).&'(&#56/,,**8707:>@6/--)/&%'+211':>=51*4-?@5-,235-6=<,)(#$''0110&).0(&$0770/-/%')'22<87;44:*(%$%)'&''%03/+*-&*()''/<6*(-@@:=?/>:634*(-%,.2?;2(.%%7;69:>6916-7::?;>?9=6&(%3668.2..;A9:/;78<<>977'$$#%$%$&#(-.&&//62($)04,(.'%88623<.CC0%6476726<568D@>=@61**)+2*;@1.-*:;B;42'@>=:/0%())08<=7+)*%)1976?96**..BC<3%&%3;;3%05260()'(553<03:5,:>9)689567,D;=7?59<-84&$#(-553*75@<*,88778792/0489(&--*32.+0,''%74'+-869;=>:<:;.%)#(&%)-(''#',..$$$32531,,#&-0-*(/-501-C=@;170.4.-')@>=?9;%41;@GK@>85&',,&&%&(&#%(+/202.'$0>9<;4(&*-277587($#+$%%$2)$&10$)*7873'/67;1;;.1479;859@;97.)'#'-)*056'76769.2;;1+38'%&933(&)*0(08-;8+/400,6688313:89.,+,,-$&%2/6,-7-518//*((+&'.&1--.9:;A<<=6.07:=5580102)98===A5?C>9752,87;<<9:3(,2773).64654827439/<8:83155;>C8;8148%)20,0+1256&0.')$*210,*2CEFA8496('&5,;<>;48*&/728>0624;-%:986(##/3:9976727/3&1***09/**0)$(*+.*3::91;8=:4)3,<0:58<6)2')(''45.+)0$#3731*%$&($2747/$$##&+'.210987&&,/=?68./1986@@;,=9</4:896DE8/;5/%7==<408''35<>2++*+*,+25)36:;885;B96'5,3982030$,%+%)'.521(55&--10%%''%$+.1$%$+-)+(%,*/,*''$&3;84.-&.11&&((+1.8651/7+A<C?<2%%4.4=A755(+)+62:4+1/-144368>>.380(#'-266/79332--8-,**$((%-$9+*(.6::3**((--3+&$%2+))**889:518;>9;6$E>??8C;7&'$.3;4*%#'.0/+''4>@05&&+.-'.<3;@?;7$;>8)%*27;<*%$'&&%&(3*4?:1=>>43;6,40083*//3/.$$)26=4=86'27914.(10%'6B@@A<<7?,(%+@:,(52(/+699?;79;777860,C@721)24%46:9?;<97;<<:1'*05457;57?=@485+:07/*1,&'77C<=5685.,-5;58135:;2.1$$*&)44:8.'()7845-$+2;97,(&'5/-0/:50*082<:08<1=<470(+)'#(*,48<<4)&/89==A1D81/A8><;-+(%/866KF<D@A9A@B<+58:,&,5386%$+*4:783=268:9/-%()4:96;6/::;8=403.1++4=;;'568=;7=,%%/033A8;;C=9;<9<5%16=C>;?B>5/*=>&%2%#'7:670.C<:84,(57?<85586/6/)%%$/&$/),.31-&'(5;079/)(BA;1=9873&-%%%$)%'5::<6131'&'*+0/(;6392+.&0+8.'$&%%<>A6&,17.'&-.1./.034667>3$:59=B;?78:245277(&756;:;55=:%%./*/-'603++.-=@AA>&/4/)%*02/'$'$+:?<;9>2(&'&<=;5-'2/%%+66<;9:35-576@5?:82'/6-11&1#&(591;/2;000/7'+2,+&,,+)&+63+/,10&2=?>131-1?9:='=9?2/3'%.)65877.&&2?8('*.411-&(''(.%/-.&%%'*./32/))%(&0&78+&0:)%6A>5.&*/>=.1++)*5?58<5674;463/%'$,541=/3)*%),236.'8;1,,$)%08>)..(*)++$$%%&*'./84356;9:'378-9.)),-+&&$),3.245434//576*$&1.'':4%-*3)*8.300/-+*)*+/-&&$###-*%$*'''''((($\n",
      "\n"
     ]
    }
   ],
   "source": [
    "# Peek at the pre-resquiggling basecall fastQ file\n",
    "\n",
    "with h5py.File(fast5_path, 'r') as file:\n",
    "    print(np.asarray(file['Analyses']['Basecall_1D_000']['BaseCalled_template']['Fastq']))"
   ]
  },
  {
   "cell_type": "markdown",
   "metadata": {},
   "source": [
    "### RawGenomeCorrected_000\n",
    "\n",
    "We know there is only one resquiggling in the fast5 file because there is only one HDF5 group with a name like `RawGenomeCorrected_000` under `Analyses`.\n",
    "\n",
    "If the fast5 was resquiggled twice, then there would be another HDF5 group with a name like `RawGenomeCorrected_001`.\n",
    "(If `tombo resquiggle` was fed a custom name with the `--corrected-group` option, then it would have some other name than `RawGenomeCorrected_001`.)"
   ]
  },
  {
   "cell_type": "code",
   "execution_count": 137,
   "metadata": {},
   "outputs": [
    {
     "name": "stdout",
     "output_type": "stream",
     "text": [
      "group: <HDF5 group \"/Analyses/RawGenomeCorrected_000\" (1 members)>\n",
      "attribute values:\n",
      "\tattribute: tombo_version\n",
      "\tvalue: 1.5.1\n",
      "\tattribute: basecall_group\n",
      "\tvalue: Basecall_1D_000\n",
      "subgroups: [u'BaseCalled_template']\n"
     ]
    }
   ],
   "source": [
    "# Peek at HDF5 group \"RawGenomeCorrected_000'\n",
    "\n",
    "with h5py.File(fast5_path, 'r') as file:\n",
    "    explore_hdf5_group(file['Analyses']['RawGenomeCorrected_000'])"
   ]
  },
  {
   "cell_type": "code",
   "execution_count": 219,
   "metadata": {},
   "outputs": [
    {
     "name": "stdout",
     "output_type": "stream",
     "text": [
      "group: <HDF5 group \"/Analyses/RawGenomeCorrected_000/BaseCalled_template\" (2 members)>\n",
      "attribute values:\n",
      "\tattribute: status\n",
      "\tvalue: success\n",
      "\tattribute: rna\n",
      "\tvalue: True\n",
      "\tattribute: signal_match_score\n",
      "\tvalue: 1.28494354458\n",
      "\tattribute: shift\n",
      "\tvalue: 570.098736793\n",
      "\tattribute: scale\n",
      "\tvalue: 73.7784909873\n",
      "\tattribute: norm_type\n",
      "\tvalue: median\n",
      "\tattribute: lower_lim\n",
      "\tvalue: -5.0\n",
      "\tattribute: upper_lim\n",
      "\tvalue: 5.0\n",
      "\tattribute: outlier_threshold\n",
      "\tvalue: 5.0\n",
      "datasets: [u'Events']\n",
      "subgroups: [u'Alignment']\n"
     ]
    }
   ],
   "source": [
    "with h5py.File(fast5_path, 'r') as file:\n",
    "    explore_hdf5_group(file['Analyses']['RawGenomeCorrected_000']['BaseCalled_template'])"
   ]
  },
  {
   "cell_type": "code",
   "execution_count": 220,
   "metadata": {},
   "outputs": [
    {
     "name": "stdout",
     "output_type": "stream",
     "text": [
      "group: <HDF5 group \"/Analyses/RawGenomeCorrected_000/BaseCalled_template/Alignment\" (0 members)>\n",
      "attribute values:\n",
      "\tattribute: mapped_start\n",
      "\tvalue: 33\n",
      "\tattribute: mapped_end\n",
      "\tvalue: 9166\n",
      "\tattribute: mapped_strand\n",
      "\tvalue: +\n",
      "\tattribute: mapped_chrom\n",
      "\tvalue: truncated_hiv_rna_genome\n",
      "\tattribute: clipped_bases_start\n",
      "\tvalue: 18\n",
      "\tattribute: clipped_bases_end\n",
      "\tvalue: 13\n",
      "\tattribute: num_insertions\n",
      "\tvalue: 380\n",
      "\tattribute: num_deletions\n",
      "\tvalue: 459\n",
      "\tattribute: num_matches\n",
      "\tvalue: 8302\n",
      "\tattribute: num_mismatches\n",
      "\tvalue: 372\n",
      "datasets: []\n",
      "subgroups: []\n"
     ]
    }
   ],
   "source": [
    "with h5py.File(fast5_path, 'r') as file:\n",
    "    explore_hdf5_group(file['Analyses']['RawGenomeCorrected_000']['BaseCalled_template']['Alignment'])"
   ]
  },
  {
   "cell_type": "code",
   "execution_count": 192,
   "metadata": {},
   "outputs": [
    {
     "name": "stdout",
     "output_type": "stream",
     "text": [
      "Shape of dataset (In our case, this is the number of positions):\n",
      "\t(9133,)\n",
      "Dataset dtype:\n",
      "\t[('norm_mean', '<f8'), ('norm_stdev', '<f8'), ('start', '<u4'), ('length', '<u4'), ('base', 'S1')]\n"
     ]
    }
   ],
   "source": [
    "# And this is the dataset that actually contains the resquiggling results for this read:\n",
    "\n",
    "with h5py.File(fast5_path, 'r') as file:\n",
    "    dataset = file['Analyses']['RawGenomeCorrected_000']['BaseCalled_template']['Events']\n",
    "    \n",
    "    print('Shape of dataset (In our case, this is the number of positions):')\n",
    "    print('\\t' + str(dataset.shape))\n",
    "    # If the dataset was two-dimension then dataset.shape would be a length-two tuple.\n",
    "    # Even though our dataset has one dimension (9100 rows), each entry has 5 different \"fields\", which are basically like columns\n",
    "    \n",
    "    print('Dataset dtype:')\n",
    "    print('\\t' + str(dataset.dtype))"
   ]
  },
  {
   "cell_type": "markdown",
   "metadata": {},
   "source": [
    "## Resquiggling results"
   ]
  },
  {
   "cell_type": "markdown",
   "metadata": {},
   "source": [
    "HDF5 datasets can have attributes, just like groups:"
   ]
  },
  {
   "cell_type": "code",
   "execution_count": 228,
   "metadata": {},
   "outputs": [
    {
     "name": "stdout",
     "output_type": "stream",
     "text": [
      "Attribute(s) and value(s) of the \"Events\" dataset:\n",
      "\tattribute: read_start_rel_to_raw\n",
      "\tvalue: 884\n"
     ]
    }
   ],
   "source": [
    "with h5py.File(fast5_path, 'r') as file:\n",
    "    dataset = file['Analyses']['RawGenomeCorrected_000']['BaseCalled_template']['Events']\n",
    "    print('Attribute(s) and value(s) of the \"Events\" dataset:')\n",
    "    for key in dataset.attrs.keys():\n",
    "        print('\\tattribute: {}'.format(key))\n",
    "        print('\\tvalue: {}'.format(dataset.attrs[key]))"
   ]
  },
  {
   "cell_type": "markdown",
   "metadata": {},
   "source": [
    "Let's extract the dataset into a numpy array."
   ]
  },
  {
   "cell_type": "code",
   "execution_count": 221,
   "metadata": {},
   "outputs": [
    {
     "name": "stdout",
     "output_type": "stream",
     "text": [
      "<type 'numpy.ndarray'>\n",
      "(9133,)\n",
      "First few rows:\n"
     ]
    },
    {
     "data": {
      "text/plain": [
       "array([[( 2.1117437 , nan,   0, 20, 'G')],\n",
       "       [( 2.31800499, nan,  20, 17, 'A')],\n",
       "       [( 1.93237796, nan,  37,  6, 'G')],\n",
       "       [(-0.87049404, nan,  43, 24, 'C')],\n",
       "       [(-1.46034994, nan,  67, 87, 'T')],\n",
       "       [(-1.33534568, nan, 154, 19, 'C')],\n",
       "       [(-0.58246972, nan, 173,  8, 'T')],\n",
       "       [(-0.58190496, nan, 181,  6, 'C')],\n",
       "       [( 1.28680815, nan, 187, 80, 'T')],\n",
       "       [( 0.88280516, nan, 267, 26, 'G')],\n",
       "       [( 0.69669713, nan, 293,  6, 'G')],\n",
       "       [(-0.60501642, nan, 299, 13, 'C')],\n",
       "       [(-0.08718083, nan, 312, 36, 'T')],\n",
       "       [( 0.66874183, nan, 348, 32, 'A')],\n",
       "       [(-0.09744908, nan, 380, 22, 'A')],\n",
       "       [(-0.69920428, nan, 402, 80, 'C')],\n",
       "       [( 0.43608903, nan, 482, 22, 'T')],\n",
       "       [( 1.95839557, nan, 504, 29, 'A')],\n",
       "       [( 2.30242602, nan, 533, 63, 'G')],\n",
       "       [( 2.9469981 , nan, 596, 21, 'G')]],\n",
       "      dtype=[('norm_mean', '<f8'), ('norm_stdev', '<f8'), ('start', '<u4'), ('length', '<u4'), ('base', 'S1')])"
      ]
     },
     "metadata": {},
     "output_type": "display_data"
    },
    {
     "name": "stdout",
     "output_type": "stream",
     "text": [
      "Last few rows:\n"
     ]
    },
    {
     "data": {
      "text/plain": [
       "array([[(-0.81684245, nan, 404889,  18, 'T')],\n",
       "       [( 0.25531489, nan, 404907,  31, 'C')],\n",
       "       [( 1.50604909, nan, 404938,  94, 'A')],\n",
       "       [( 1.47831608, nan, 405032,   6, 'A')],\n",
       "       [(-0.62072434, nan, 405038, 152, 'T')],\n",
       "       [( 1.27361094, nan, 405190,  47, 'A')],\n",
       "       [( 1.17880195, nan, 405237,  29, 'A')],\n",
       "       [( 1.89266687, nan, 405266,  19, 'A')],\n",
       "       [( 0.63909227, nan, 405285,   8, 'G')],\n",
       "       [(-0.97422045, nan, 405293,  18, 'C')],\n",
       "       [(-0.71518681, nan, 405311,   6, 'T')],\n",
       "       [( 0.08107055, nan, 405317,  25, 'T')],\n",
       "       [( 1.01747717, nan, 405342,  18, 'G')],\n",
       "       [(-1.42034681, nan, 405360,  13, 'C')],\n",
       "       [(-0.8544484 , nan, 405373,  17, 'C')],\n",
       "       [(-0.13107025, nan, 405390, 105, 'T')],\n",
       "       [( 1.2512576 , nan, 405495,  41, 'T')],\n",
       "       [( 1.66882629, nan, 405536,  27, 'G')],\n",
       "       [( 2.28478419, nan, 405563,  12, 'A')],\n",
       "       [( 0.71333169, nan, 405575,  11, 'G')]],\n",
       "      dtype=[('norm_mean', '<f8'), ('norm_stdev', '<f8'), ('start', '<u4'), ('length', '<u4'), ('base', 'S1')])"
      ]
     },
     "metadata": {},
     "output_type": "display_data"
    }
   ],
   "source": [
    "# Extract resquiggling results into numpy array\n",
    "\n",
    "with h5py.File(fast5_path, 'r') as file:\n",
    "    dataset = file['Analyses']['RawGenomeCorrected_000']['BaseCalled_template']['Events']\n",
    "    resquig_array = np.asarray(dataset)\n",
    "    \n",
    "# Now we don't have to do everything in \"with ... as ...\" blocks.\n",
    "print(type(resquig_array))\n",
    "print(resquig_array.shape)\n",
    "print('First few rows:')\n",
    "display(resquig_array[:20].reshape(-1,1)) # the \"reshape\" is just to make it display in one column\n",
    "print('Last few rows:')\n",
    "display(resquig_array[-20:].reshape(-1,1)) # the \"reshape\" is just to make it display in one column"
   ]
  },
  {
   "cell_type": "markdown",
   "metadata": {},
   "source": [
    "For explanation of the fields, look at the official Tombo docs here:\n",
    "* https://nanoporetech.github.io/tombo/resquiggle.html#tombo-fast5-format (see the paragraph starting with \"The Events slot\" under section \"Tombo FAST5 format)\n",
    "\n",
    "It appears that\n",
    "* Every row corresponds to one nucleotide position in the reference genome (but not every nucleotide in the reference genome gets mapped to)\n",
    "* `norm_mean` is the (normalized) average current across all current measurements taken while that nucleotide of that read was centered in the nanopore\n",
    "* `norm_stdev` is the (normalized) standard deviation across all measurements taken while that nucleotide of that read was centered in the nanopore\n",
    "* `length` is the total number of current measurements taken while that nucleotide of that read was centered in the nanopore\n",
    "* `base` is the corresponding nucleotide in the reference genome\n",
    "* `start` tells is the index of the first current measurement attributed to this nucleotide of this read, relative to read_start_rel_to_raw\n",
    "\n",
    "(I think the 'Events' dataset has been deprecated? See Mari Miyamoto's post in this tweet thread: https://twitter.com/nickschurch/status/1037328783836160000. Not sure what to make of this.)"
   ]
  },
  {
   "cell_type": "code",
   "execution_count": 233,
   "metadata": {},
   "outputs": [
    {
     "name": "stdout",
     "output_type": "stream",
     "text": [
      "Is the 'length' field just the difference between neighboring 'start' fields?\n"
     ]
    },
    {
     "data": {
      "text/plain": [
       "True"
      ]
     },
     "execution_count": 233,
     "metadata": {},
     "output_type": "execute_result"
    }
   ],
   "source": [
    "print(\"Is the 'length' field just the difference between neighboring 'start' fields?\")\n",
    "np.all( # only true if every entry is true\n",
    "    np.equal( # elementwise comparison\n",
    "        np.diff(resquig_array['start']), # has length one less than len(resquig_array['start'])\n",
    "        resquig_array['length'][:-1] # Use index [:-1] to throw out last entry\n",
    "    )\n",
    ")"
   ]
  },
  {
   "cell_type": "markdown",
   "metadata": {},
   "source": [
    "Well that's convenient. The value of `length` at row $x$ equals:\n",
    "\n",
    "{`start` at row $x+1$} - {`start` at row $x$}\n",
    "\n",
    "This holds for all but the last row (since there's no row $x+1$ for that row)."
   ]
  },
  {
   "cell_type": "code",
   "execution_count": 250,
   "metadata": {},
   "outputs": [
    {
     "name": "stdout",
     "output_type": "stream",
     "text": [
      "(array([], dtype=int64),)\n"
     ]
    }
   ],
   "source": [
    "# Is the length field ever zero?\n",
    "print(np.where(resquig_array['length'] == 0))\n",
    "assert len(np.where(resquig_array['length'] == 0)[0]) == 0, 'Error: there are entries in the Events table with length 0'\n",
    "# The result of np.where is an empty array, so there are no positions where the length field is zero."
   ]
  },
  {
   "cell_type": "markdown",
   "metadata": {},
   "source": [
    "In this dataset, it appears `length` is never zero."
   ]
  },
  {
   "cell_type": "markdown",
   "metadata": {},
   "source": [
    "Because the flowcell ammeters take current measurements at a constant rate, `length` is proportional to the dwell time."
   ]
  },
  {
   "cell_type": "code",
   "execution_count": 272,
   "metadata": {
    "collapsed": true,
    "jupyter": {
     "outputs_hidden": true
    }
   },
   "outputs": [
    {
     "data": {
      "text/plain": [
       "'GAGCTCTCTGGCTAACTAGGGAACCCACTGCTTAAGCCTCAATAAAGCTTGCCTTGAGTGCTCAAAGTAGTGTGTGCCCGTCTGTTGTGTGACTCTGGTAACTAGAGATCCCTCAGACCCTTTTAGTCAGTGTGGAAAATCTCTAGCAGTGGCGCCCGAACAGGGACTTGAAAGCGAAAGTAAAGCCAGAGGAGATCTCTCGACGCAGGACTCGGCTTGCTGAAGCGCGCACGGCAAGAGGCGAGGGGCGGCGACTGGTGAGTACGCCAAAAATTTTGACTAGCGGAGGCTAGAAGGAGAGAGATGGGTGCGAGAGCGTCGGTATTAAGCGGGGGAGAATTAGATAAATGGGAAAAAATTCGGTTAAGGCCAGGGGGAAAGAAACAATATAAACTAAAACATATAGTATGGGCAAGCAGGGAGCTAGAACGATTCGCAGTTAATCCTGGCCTTTTAGAGACATCAGAAGGCTGTAGACAAATACTGGGACAGCTACAACCATCCCTTCAGACAGGATCAGAAGAACTTAGATCATTATATAATACAATAGCAGTCCTCTATTGTGTGCATCAAAGGATAGATGTAAAAGACACCAAGGAAGCCTTAGATAAGATAGAGGAAGAGCAAAACAAAAGTAAGAAAAAGGCACAGCAAGCAGCAGCTGACACAGGAAACAACAGCCAGGTCAGCCAAAATTACCCTATAGTGCAGAACCTCCAGGGGCAAATGGTACATCAGGCCATATCACCTAGAACTTTAAATGCATGGGTAAAAGTAGTAGAAGAGAAGGCTTTCAGCCCAGAAGTAATACCCATGTTTTCAGCATTATCAGAAGGAGCCACCCCACAAGATTTAAATACCATGCTAAACACAGTGGGGGGACATCAAGCAGCCATGCAAATGTTAAAAGAGACCATCAATGAGGAAGCTGCAGAATGGGATAGATTGCATCCAGTGCATGCAGGGCCTATTGCACCAGGCCAGATGAGAGAACCAAGGGGAAGTGACATAGCAGGAACTACTAGTACCCTTCAGGAACAAATAGGATGGATGACACATAATCCACCTATCCCAGTAGGAGAAATCTATAAAAGATGGATAATCCTGGGATTAAATAAAATAGTAAGAATGTATAGCCCTACCAGCATTCTGGACATAAGACAAGGACCAAAGGAACCCTTTAGAGACTATGTAGACCGATTCTATAAAACTCTAAGAGCCGAGCAAGCTTCACAAGAGGTAAAAAATTGGATGACAGAAACCTTGTTGGTCCAAAATGCGAACCCAGATTGTAAGACTATTTTAAAAGCATTGGGACCAGGAGCGACACTAGAAGAAATGATGACAGCATGTCAGGGAGTGGGGGGACCCGGCCATAAAGCAAGAGTTTTGGCTGAAGCAATGAGCCAAGTAACAAATCCAGCTACCATAATGATACAGAAAGGCAATTTTAGGAACCAAAGAAAGACTGTTAAGTGTTTCAATTGTGGCAAAGAAGGGCACATAGCCAAAAATTGCAGGGCCCCTAGGAAAAAGGGCTGTTGGAAATGTGGAAAGGAAGGACACCAAATGAAAGATTGTACTGAGAGACAGGCTAATTTTTTAGGGAAGATCTGGCCTTCCCACAAGGGAAGGCCAGGGAATTTTCTTCAGAGCAGACCAGAGCCAACAGCCCCACCAGAAGAGAGCTTCAGGTTTGGGGAAGAGACAACAACTCCCTCTCAGAAGCAGGAGCCGATAGACAAGGAACTGTATCCTTTAGCTTCCCTCAGATCACTCTTTGGCAGCGACCCCTCGTCACAATAAAGATAGGGGGGCAATTAAAGGAAGCTCTATTAGATACAGGAGCAGATGATACAGTATTAGAAGAAATGAATTTGCCAGGAAGATGGAAACCAAAAATGATAGGGGGAATTGGAGGTTTTATCAAAGTAAGACAGTATGATCAGATACTCATAGAAATCTGCGGACATAAAGCTATAGGTACAGTATTAGTAGGACCTACACCTGTCAACATAATTGGAAGAAATCTGTTGACTCAGATTGGCTGCACTTTAAATTTTCCCATTAGTCCTATTGAGACTGTACCAGTAAAATTAAAGCCAGGAATGGATGGCCCAAAAGTTAAACAATGGCCATTGACAGAAGAAAAAATAAAAGCATTAGTAGAAATTTGTACAGAAATGGAAAAGGAAGGAAAAATTTCAAAAATTGGGCCTGAAAATCCATACAATACTCCAGTATTTGCCATAAAGAAAAAAGACAGTACTAAATGGAGAAAATTAGTAGATTTCAGAGAACTTAATAAGAGAACTCAAGATTTCTGGGAAGTTCAATTAGGAATACCACATCCTGCAGGGTTAAAACAGAAAAAATCAGTAACAGTACTGGATGTGGGCGATGCATATTTTTCAGTTCCCTTAGATAAAGACTTCAGGAAGTATACTGCATTTACCATACCTAGTATAAACAATGAGACACCAGGGATTAGATATCAGTACAATGTGCTTCCACAGGGATGGAAAGGATCACCAGCAATATTCCAGTGTAGCATGACAAAAATCTTAGAGCCTTTTAGAAAACAAAATCCAGACATAGTCATCTATCAATACATGGATGATTTGTATGTAGGATCTGACTTAGAAATAGGGCAGCATAGAACAAAAATAGAGGAACTGAGACAACATCTGTTGAGGTGGGGATTTACCACACCAGACAAAAAACATCAGAAAGAACCTCCATTCCTTTGGATGGGTTATGAACTCCATCCTGATAAATGGACAGTACAGCCTATAGTGCTGCCAGAAAAGGACAGCTGGACTGTCAATGACATACAGAAATTAGTGGGAAAATTGAATTGGGCAAGTCAGATTTATGCAGGGATTAAAGTAAGGCAATTATGTAAACTTCTTAGGGGAACCAAAGCACTAACAGAAGTAGTACCACTAACAGAAGAAGCAGAGCTAGAACTGGCAGAAAACAGGGAGATTCTAAAAGAACCGGTACATGGAGTGTATTATGACCCATCAAAAGACTTAATAGCAGAAATACAGAAGCAGGGGCAAGGCCAATGGACATATCAAATTTATCAAGAGCCATTTAAAAATCTGAAAACAGGAAAGTATGCAAGAATGAAGGGTGCCCACACTAATGATGTGAAACAATTAACAGAGGCAGTACAAAAAATAGCCACAGAAAGCATAGTAATATGGGGAAAGACTCCTAAATTTAAATTACCCATACAAAAGGAAACATGGGAAGCATGGTGGACAGAGTATTGGCAAGCCACCTGGATTCCTGAGTGGGAGTTTGTCAATACCCCTCCCTTAGTGAAGTTATGGTACCAGTTAGAGAAAGAACCCATAATAGGAGCAGAAACTTTCTATGTAGATGGGGCAGCCAATAGGGAAACTAAATTAGGAAAAGCAGGATATGTAACTGACAGAGGAAGACAAAAAGTTGTCCCCCTAACGGACACAACAAATCAGAAGACTGAGTTACAAGCAATTCATCTAGCTTTGCAGGATTCGGGATTAGAAGTAAACATAGTGACAGACTCACAATATGCATTGGGAATCATTCAAGCACAACCAGATAAGAGTGAATCAGAGTTAGTCAGTCAAATAATAGAGCAGTTAATAAAAAAGGAAAAAGTCTACCTGGCATGGGTACCAGCACACAAAGGAATTGGAGGAAATGAACAAGTAGATAAATTGGTCAGTGCTGGAATCAGGAAAGTACTATTTTTAGATGGAATAGATAAGGCCCAAGAAGAACATGAGAAATATCACAGTAATTGGAGAGCAATGGCTAGTGATTTTAACCTACCACCTGTAGTAGCAAAAGAAATAGTAGCCAGCTGTGATAAATGTCAGCTAAAAGGGGAAGCCATGCATGGACAAGTAGACTGTAGCCCAGGAATATGGCAGCTAGATTGTACACATTTAGAAGGAAAAGTTATCTTGGTAGCAGTTCATGTAGCCAGTGGATATATAGAAGCAGAAGTAATTCCAGCAGAGACAGGGCAAGAAACAGCATACTTCCTCTTAAAATTAGCAGGAAGATGGCCAGTAAAAACAGTACATACAGACAATGGCAGCAATTTCACCAGTACTACAGTTAAGGCCGCCTGTTGGTGGGCGGGGATCAAGCAGGAATTTGGCATTCCCTACAATCCCCAAAGTCAAGGAGTAATAGAATCTATGAATAAAGAATTAAAGAAAATTATAGGACAGGTAAGAGATCAGGCTGAACATCTTAAGACAGCAGTACAAATGGCAGTATTCATCCACAATTTTAAAAGAAAAGGGGGGATTGGGGGGTACAGTGCAGGGGAAAGAATAGTAGACATAATAGCAACAGACATACAAACTAAAGAATTACAAAAACAAATTACAAAAATTCAAAATTTTCGGGTTTATTACAGGGACAGCAGAGATCCAGTTTGGAAAGGACCAGCAAAGCTCCTCTGGAAAGGTGAAGGGGCAGTAGTAATACAAGATAATAGTGACATAAAAGTAGTGCCAAGAAGAAAAGCAAAGATCATCAGGGATTATGGAAAACAGATGGCAGGTGATGATTGTGTGGCAAGTAGACAGGATGAGGATTAACACATGGAAAAGATTAGTAAAACACCATATGTATATTTCAAGGAAAGCTAAGGACTGGTTTTATAGACATCACTATGAAAGTACTAATCCAAAAATAAGTTCAGAAGTACACATCCCACTAGGGGATGCTAAATTAGTAATAACAACATATTGGGGTCTGCATACAGGAGAAAGAGACTGGCATTTGGGTCAGGGAGTCTCCATAGAATGGAGGAAAAAGAGATATAGCACACAAGTAGACCCTGACCTAGCAGACCAACTAATTCATCTGCACTATTTTGATTGTTTTTCAGAATCTGCTATAAGAAATACCATATTAGGACGTATAGTTAGTCCTAGGTGTGAATATCAAGCAGGACATAACAAGGTAGGATCTCTACAGTACTTGGCACTAGCAGCATTAATAAAACCAAAACAGATAAAGCCACCTTTGCCTAGTGTTAGGAAACTGACAGAGGACAGATGGAACAAGCCCCAGAAGACCAAGGGCCACAGAGGGAGCCATACAATGAATGGACACTAGAGCTTTTAGAGGAACTTAAGAGTGAAGCTGTTAGACATTTTCCTAGGATATGGCTCCATAACTTAGGACAACATATCTATGAAACTTACGGGGATACTTGGGCAGGAGTGGAAGCCATAATAAGAATTCTGCAACAACTGCTGTTTATCCATTTCAGAATTGGGTGTCGACATAGCAGAATAGGCGTTACTCGACAGAGGAGAGCAAGAAATGGAGCCAGTAGATCCTAGACTAGAGCCCTGGAAGCATCCAGGAAGTCAGCCTAAAACTGCTTGTACCAATTGCTATTGTAAAAAGTGTTGCTTTCATTGCCAAGTTTGTTTCATGACAAAAGCCTTAGGCATCTCCTATGGCAGGAAGAAGCGGAGACAGCGACGAAGAGCTCATCAGAACAGTCAGACTCATCAAGCTTCTCTATCAAAGCAGTAAGTAGTACATGTAATGCAACCTATAATAGTAGCAATAGTAGCATTAGTAGTAGCAATAATAATAGCAATAGTTGTGTGGTCCATAGTAATCATAGAATATAGGAAAATATTAAGACAAAGAAAAATAGACAGGTTAATTGATAGACTAATAGAAAGAGCAGAAGACAGTGGCAATGAGAGTGAAGGAGAAGTATCAGCACTTGTGGAGATGGGGGTGGAAATGGGGCACCATGCTCCTTGGGATATTGATGATCTGTAGTGCTACAGAAAAATTGTGGGTCACAGTCTATTATGGGGTACCTGTGTGGAAGGAAGCAACCACCACTCTATTTTGTGCATCAGATGCTAAAGCATATGATACAGAGGTACATAATGTTTGGGCCACACATGCCTGTGTACCCACAGACCCCAACCCACAAGAAGTAGTATTGGTAAATGTGACAGAAAATTTTAACATGTGGAAAAATGACATGGTAGAACAGATGCATGAGGATATAATCAGTTTATGGGATCAAAGCCTAAAGCCATGTGTAAAATTAACCCCACTCTGTGTTAGTTTAAAGTGCACTGATTTGAAGAATGATACTAATACCAATAGTAGTAGCGGGAGAATGATAATGGAGAAAGGAGAGATAAAAAACTGCTCTTTCAATATCAGCACAAGCATAAGAGATAAGGTGCAGAAAGAATATGCATTCTTTTATAAACTTGATATAGTACCAATAGATAATACCAGCTATAGGTTGATAAGTTGTAACACCTCAGTCATTACACAGGCCTGTCCAAAGGTATCCTTTGAGCCAATTCCCATACATTATTGTGCCCCGGCTGGTTTTGCGATTCTAAAATGTAATAATAAGACGTTCAATGGAACAGGACCATGTACAAATGTCAGCACAGTACAATGTACACATGGAATCAGGCCAGTAGTATCAACTCAACTGCTGTTAAATGGCAGTCTAGCAGAAGAAGATGTAGTAATTAGATCTGCCAATTTCACAGACAATGCTAAAACCATAATAGTACAGCTGAACACATCTGTAGAAATTAATTGTACAAGACCCAACAACAATACAAGAAAAAGTATCCGTATCCAGAGGGGACCAGGGAGAGCATTTGTTACAATAGGAAAAATAGGAAATATGAGACAAGCACATTGTAACATTAGTAGAGCAAAATGGAATGCCACTTTAAAACAGATAGCTAGCAAATTAAGAGAACAATTTGGAAATAATAAAACAATAATCTTTAAGCAATCCTCAGGAGGGGACCCAGAAATTGTAACGCACAGTTTTAATTGTGGAGGGGAATTTTTCTACTGTAATTCAACACAACTGTTTAATAGTACTTGGTTTAATAGTACTTGGAGTACTGAAGGGTCAAATAACACTGAAGGAAGTGACACAATCACACTCCCATGCAGAATAAAACAATTTATAAACATGTGGCAGGAAGTAGGAAAAGCAATGTATGCCCCTCCCATCAGTGGACAAATTAGATGTTCATCAAATATTACTGGGCTGCTATTAACAAGAGATGGTGGTAATAACAACAATGGGTCCGAGATCTTCAGACCTGGAGGAGGCGATATGAGGGACAATTGGAGAAGTGAATTATATAAATATAAAGTAGTAAAAATTGAACCATTAGGAGTAGCACCCACCAAGGCAAAGAGAAGAGTGGTGCAGAGAGAAAAAAGAGCAGTGGGAATAGGAGCTTTGTTCCTTGGGTTCTTGGGAGCAGCAGGAAGCACTATGGGCGCAGCGTCAATGACGCTGACGGTACAGGCCAGACAATTATTGTCTGATATAGTGCAGCAGCAGAACAATTTGCTGAGGGCTATTGAGGCGCAACAGCATCTGTTGCAACTCACAGTCTGGGGCATCAAACAGCTCCAGGCAAGAATCCTGGCTGTGGAAAGATACCTAAAGGATCAACAGCTCCTGGGGATTTGGGGTTGCTCTGGAAAACTCATTTGCACCACTGCTGTGCCTTGGAATGCTAGTTGGAGTAATAAATCTCTGGAACAGATTTGGAATAACATGACCTGGATGGAGTGGGACAGAGAAATTAACAATTACACAAGCTTAATACACTCCTTAATTGAAGAATCGCAAAACCAGCAAGAAAAGAATGAACAAGAATTATTGGAATTAGATAAATGGGCAAGTTTGTGGAATTGGTTTAACATAACAAATTGGCTGTGGTATATAAAATTATTCATAATGATAGTAGGAGGCTTGGTAGGTTTAAGAATAGTTTTTGCTGTACTTTCTATAGTGAATAGAGTTAGGCAGGGATATTCACCATTATCGTTTCAGACCCACCTCCCAATCCCGAGGGGACCCGACAGGCCCGAAGGAATAGAAGAAGAAGGTGGAGAGAGAGACAGAGACAGATCCATTCGATTAGTGAACGGATCCTTAGCACTTATCTGGGACGATCTGCGGAGCCTGTGCCTCTTCAGCTACCACCGCTTGAGAGACTTACTCTTGATTGTAACGAGGATTGTGGAACTTCTGGGACGCAGGGGGTGGGAAGCCCTCAAATATTGGTGGAATCTCCTACAGTATTGGAGTCAGGAACTAAAGAATAGTGCTGTTAACTTGCTCAATGCCACAGCCATAGCAGTAGCTGAGGGGACAGATAGGGTTATAGAAGTATTACAAGCAGCTTATAGAGCTATTCGCCACATACCTAGAAGAATAAGACAGGGCTTGGAAAGGATTTTGCTATAAGATGGGTGGCAAGTGGTCAAAAAGTAGTGTGATTGGATGGCCTGCTGTAAGGGAAAGAATGAGACGAGCTGAGCCAGCAGCAGATGGGGTGGGAGCAGTATCTCGAGACCTAGAAAAACATGGAGCAATCACAAGTAGCAATACAGCAGCTAACAATGCTGCTTGTGCCTGGCTAGAAGCACAAGAGGAGGAAGAGGTGGGTTTTCCAGTCACACCTCAGGTACCTTTAAGACCAATGACTTACAAGGCAGCTGTAGATCTTAGCCACTTTTTAAAAGAAAAGGGGGGACTGGAAGGGCTAATTCACTCCCAAAGAAGACAAGATATCCTTGATCTGTGGATCTACCACACACAAGGCTACTTCCCTGATTGGCAGAACTACACACCAGGGCCAGGGGTCAGATATCCACTGACCTTTGGATGGTGCTACAAGCTAGTACCAGTTGAGCCAGATAAGGTAGAAGAGGCCAATAAAGGAGAGAACACCAGCTTGTTACACCCTGTGAGCCTGCATGGAATGGATGACCCTGAGAGAGAAGTGTTAGAGTGGAGGTTTGACAGCCGCCTAGCATTTCATCACGTGGCCCGAGAGCTGCATCCGGAGTACTTCAAGAACTGCTGACATCGAGCTTGCTACAAGGGACTTTCCGCTGGGGACTTTCCAGGGAGGCGTGGCCTGGGCGGGACTGGGGAGTGGCGAGCCCTCAGATGCTGCATATAAGCAGCTGCTTTTTGCCTGTACTGGGTCTCTCTGGTTAGACCAGATCTGAGCCTGGGAGCTCTCTGGCTAACTAGGGAACCCACTGCTTAAGCCTCAATAAAGCTTGCCTTGAG'"
      ]
     },
     "execution_count": 272,
     "metadata": {},
     "output_type": "execute_result"
    }
   ],
   "source": [
    "# Here's the genome from the events table\n",
    "events_genome = ''.join(resquig_array['base'])\n",
    "events_genome"
   ]
  },
  {
   "cell_type": "code",
   "execution_count": 268,
   "metadata": {
    "collapsed": true,
    "jupyter": {
     "outputs_hidden": true
    }
   },
   "outputs": [
    {
     "name": "stdout",
     "output_type": "stream",
     "text": [
      "['>truncated_hiv_rna_genome', 'gggtctctctggttagaccagatctgagcctgggagctctctggctaactagggaacccactgcttaagcctcaataaagcttgccttgagtgctcaaagtagtgtgtgcccgtctgttgtgtgactctggtaactagagatccctcagacccttttagtcagtgtggaaaatctctagcagtggcgcccgaacagggacttgaaagcgaaagtaaagccagaggagatctctcgacgcaggactcggcttgctgaagcgcgcacggcaagaggcgaggggcggcgactggtgagtacgccaaaaattttgactagcggaggctagaaggagagagatgggtgcgagagcgtcggtattaagcgggggagaattagataaatgggaaaaaattcggttaaggccagggggaaagaaacaatataaactaaaacatatagtatgggcaagcagggagctagaacgattcgcagttaatcctggccttttagagacatcagaaggctgtagacaaatactgggacagctacaaccatcccttcagacaggatcagaagaacttagatcattatataatacaatagcagtcctctattgtgtgcatcaaaggatagatgtaaaagacaccaaggaagccttagataagatagaggaagagcaaaacaaaagtaagaaaaaggcacagcaagcagcagctgacacaggaaacaacagccaggtcagccaaaattaccctatagtgcagaacctccaggggcaaatggtacatcaggccatatcacctagaactttaaatgcatgggtaaaagtagtagaagagaaggctttcagcccagaagtaatacccatgttttcagcattatcagaaggagccaccccacaagatttaaataccatgctaaacacagtggggggacatcaagcagccatgcaaatgttaaaagagaccatcaatgaggaagctgcagaatgggatagattgcatccagtgcatgcagggcctattgcaccaggccagatgagagaaccaaggggaagtgacatagcaggaactactagtacccttcaggaacaaataggatggatgacacataatccacctatcccagtaggagaaatctataaaagatggataatcctgggattaaataaaatagtaagaatgtatagccctaccagcattctggacataagacaaggaccaaaggaaccctttagagactatgtagaccgattctataaaactctaagagccgagcaagcttcacaagaggtaaaaaattggatgacagaaaccttgttggtccaaaatgcgaacccagattgtaagactattttaaaagcattgggaccaggagcgacactagaagaaatgatgacagcatgtcagggagtggggggacccggccataaagcaagagttttggctgaagcaatgagccaagtaacaaatccagctaccataatgatacagaaaggcaattttaggaaccaaagaaagactgttaagtgtttcaattgtggcaaagaagggcacatagccaaaaattgcagggcccctaggaaaaagggctgttggaaatgtggaaaggaaggacaccaaatgaaagattgtactgagagacaggctaattttttagggaagatctggccttcccacaagggaaggccagggaattttcttcagagcagaccagagccaacagccccaccagaagagagcttcaggtttggggaagagacaacaactccctctcagaagcaggagccgatagacaaggaactgtatcctttagcttccctcagatcactctttggcagcgacccctcgtcacaataaagataggggggcaattaaaggaagctctattagatacaggagcagatgatacagtattagaagaaatgaatttgccaggaagatggaaaccaaaaatgatagggggaattggaggttttatcaaagtaagacagtatgatcagatactcatagaaatctgcggacataaagctataggtacagtattagtaggacctacacctgtcaacataattggaagaaatctgttgactcagattggctgcactttaaattttcccattagtcctattgagactgtaccagtaaaattaaagccaggaatggatggcccaaaagttaaacaatggccattgacagaagaaaaaataaaagcattagtagaaatttgtacagaaatggaaaaggaaggaaaaatttcaaaaattgggcctgaaaatccatacaatactccagtatttgccataaagaaaaaagacagtactaaatggagaaaattagtagatttcagagaacttaataagagaactcaagatttctgggaagttcaattaggaataccacatcctgcagggttaaaacagaaaaaatcagtaacagtactggatgtgggcgatgcatatttttcagttcccttagataaagacttcaggaagtatactgcatttaccatacctagtataaacaatgagacaccagggattagatatcagtacaatgtgcttccacagggatggaaaggatcaccagcaatattccagtgtagcatgacaaaaatcttagagccttttagaaaacaaaatccagacatagtcatctatcaatacatggatgatttgtatgtaggatctgacttagaaatagggcagcatagaacaaaaatagaggaactgagacaacatctgttgaggtggggatttaccacaccagacaaaaaacatcagaaagaacctccattcctttggatgggttatgaactccatcctgataaatggacagtacagcctatagtgctgccagaaaaggacagctggactgtcaatgacatacagaaattagtgggaaaattgaattgggcaagtcagatttatgcagggattaaagtaaggcaattatgtaaacttcttaggggaaccaaagcactaacagaagtagtaccactaacagaagaagcagagctagaactggcagaaaacagggagattctaaaagaaccggtacatggagtgtattatgacccatcaaaagacttaatagcagaaatacagaagcaggggcaaggccaatggacatatcaaatttatcaagagccatttaaaaatctgaaaacaggaaagtatgcaagaatgaagggtgcccacactaatgatgtgaaacaattaacagaggcagtacaaaaaatagccacagaaagcatagtaatatggggaaagactcctaaatttaaattacccatacaaaaggaaacatgggaagcatggtggacagagtattggcaagccacctggattcctgagtgggagtttgtcaatacccctcccttagtgaagttatggtaccagttagagaaagaacccataataggagcagaaactttctatgtagatggggcagccaatagggaaactaaattaggaaaagcaggatatgtaactgacagaggaagacaaaaagttgtccccctaacggacacaacaaatcagaagactgagttacaagcaattcatctagctttgcaggattcgggattagaagtaaacatagtgacagactcacaatatgcattgggaatcattcaagcacaaccagataagagtgaatcagagttagtcagtcaaataatagagcagttaataaaaaaggaaaaagtctacctggcatgggtaccagcacacaaaggaattggaggaaatgaacaagtagataaattggtcagtgctggaatcaggaaagtactatttttagatggaatagataaggcccaagaagaacatgagaaatatcacagtaattggagagcaatggctagtgattttaacctaccacctgtagtagcaaaagaaatagtagccagctgtgataaatgtcagctaaaaggggaagccatgcatggacaagtagactgtagcccaggaatatggcagctagattgtacacatttagaaggaaaagttatcttggtagcagttcatgtagccagtggatatatagaagcagaagtaattccagcagagacagggcaagaaacagcatacttcctcttaaaattagcaggaagatggccagtaaaaacagtacatacagacaatggcagcaatttcaccagtactacagttaaggccgcctgttggtgggcggggatcaagcaggaatttggcattccctacaatccccaaagtcaaggagtaatagaatctatgaataaagaattaaagaaaattataggacaggtaagagatcaggctgaacatcttaagacagcagtacaaatggcagtattcatccacaattttaaaagaaaaggggggattggggggtacagtgcaggggaaagaatagtagacataatagcaacagacatacaaactaaagaattacaaaaacaaattacaaaaattcaaaattttcgggtttattacagggacagcagagatccagtttggaaaggaccagcaaagctcctctggaaaggtgaaggggcagtagtaatacaagataatagtgacataaaagtagtgccaagaagaaaagcaaagatcatcagggattatggaaaacagatggcaggtgatgattgtgtggcaagtagacaggatgaggattaacacatggaaaagattagtaaaacaccatatgtatatttcaaggaaagctaaggactggttttatagacatcactatgaaagtactaatccaaaaataagttcagaagtacacatcccactaggggatgctaaattagtaataacaacatattggggtctgcatacaggagaaagagactggcatttgggtcagggagtctccatagaatggaggaaaaagagatatagcacacaagtagaccctgacctagcagaccaactaattcatctgcactattttgattgtttttcagaatctgctataagaaataccatattaggacgtatagttagtcctaggtgtgaatatcaagcaggacataacaaggtaggatctctacagtacttggcactagcagcattaataaaaccaaaacagataaagccacctttgcctagtgttaggaaactgacagaggacagatggaacaagccccagaagaccaagggccacagagggagccatacaatgaatggacactagagcttttagaggaacttaagagtgaagctgttagacattttcctaggatatggctccataacttaggacaacatatctatgaaacttacggggatacttgggcaggagtggaagccataataagaattctgcaacaactgctgtttatccatttcagaattgggtgtcgacatagcagaataggcgttactcgacagaggagagcaagaaatggagccagtagatcctagactagagccctggaagcatccaggaagtcagcctaaaactgcttgtaccaattgctattgtaaaaagtgttgctttcattgccaagtttgtttcatgacaaaagccttaggcatctcctatggcaggaagaagcggagacagcgacgaagagctcatcagaacagtcagactcatcaagcttctctatcaaagcagtaagtagtacatgtaatgcaacctataatagtagcaatagtagcattagtagtagcaataataatagcaatagttgtgtggtccatagtaatcatagaatataggaaaatattaagacaaagaaaaatagacaggttaattgatagactaatagaaagagcagaagacagtggcaatgagagtgaaggagaagtatcagcacttgtggagatgggggtggaaatggggcaccatgctccttgggatattgatgatctgtagtgctacagaaaaattgtgggtcacagtctattatggggtacctgtgtggaaggaagcaaccaccactctattttgtgcatcagatgctaaagcatatgatacagaggtacataatgtttgggccacacatgcctgtgtacccacagaccccaacccacaagaagtagtattggtaaatgtgacagaaaattttaacatgtggaaaaatgacatggtagaacagatgcatgaggatataatcagtttatgggatcaaagcctaaagccatgtgtaaaattaaccccactctgtgttagtttaaagtgcactgatttgaagaatgatactaataccaatagtagtagcgggagaatgataatggagaaaggagagataaaaaactgctctttcaatatcagcacaagcataagagataaggtgcagaaagaatatgcattcttttataaacttgatatagtaccaatagataataccagctataggttgataagttgtaacacctcagtcattacacaggcctgtccaaaggtatcctttgagccaattcccatacattattgtgccccggctggttttgcgattctaaaatgtaataataagacgttcaatggaacaggaccatgtacaaatgtcagcacagtacaatgtacacatggaatcaggccagtagtatcaactcaactgctgttaaatggcagtctagcagaagaagatgtagtaattagatctgccaatttcacagacaatgctaaaaccataatagtacagctgaacacatctgtagaaattaattgtacaagacccaacaacaatacaagaaaaagtatccgtatccagaggggaccagggagagcatttgttacaataggaaaaataggaaatatgagacaagcacattgtaacattagtagagcaaaatggaatgccactttaaaacagatagctagcaaattaagagaacaatttggaaataataaaacaataatctttaagcaatcctcaggaggggacccagaaattgtaacgcacagttttaattgtggaggggaatttttctactgtaattcaacacaactgtttaatagtacttggtttaatagtacttggagtactgaagggtcaaataacactgaaggaagtgacacaatcacactcccatgcagaataaaacaatttataaacatgtggcaggaagtaggaaaagcaatgtatgcccctcccatcagtggacaaattagatgttcatcaaatattactgggctgctattaacaagagatggtggtaataacaacaatgggtccgagatcttcagacctggaggaggcgatatgagggacaattggagaagtgaattatataaatataaagtagtaaaaattgaaccattaggagtagcacccaccaaggcaaagagaagagtggtgcagagagaaaaaagagcagtgggaataggagctttgttccttgggttcttgggagcagcaggaagcactatgggcgcagcgtcaatgacgctgacggtacaggccagacaattattgtctgatatagtgcagcagcagaacaatttgctgagggctattgaggcgcaacagcatctgttgcaactcacagtctggggcatcaaacagctccaggcaagaatcctggctgtggaaagatacctaaaggatcaacagctcctggggatttggggttgctctggaaaactcatttgcaccactgctgtgccttggaatgctagttggagtaataaatctctggaacagatttggaataacatgacctggatggagtgggacagagaaattaacaattacacaagcttaatacactccttaattgaagaatcgcaaaaccagcaagaaaagaatgaacaagaattattggaattagataaatgggcaagtttgtggaattggtttaacataacaaattggctgtggtatataaaattattcataatgatagtaggaggcttggtaggtttaagaatagtttttgctgtactttctatagtgaatagagttaggcagggatattcaccattatcgtttcagacccacctcccaatcccgaggggacccgacaggcccgaaggaatagaagaagaaggtggagagagagacagagacagatccattcgattagtgaacggatccttagcacttatctgggacgatctgcggagcctgtgcctcttcagctaccaccgcttgagagacttactcttgattgtaacgaggattgtggaacttctgggacgcagggggtgggaagccctcaaatattggtggaatctcctacagtattggagtcaggaactaaagaatagtgctgttaacttgctcaatgccacagccatagcagtagctgaggggacagatagggttatagaagtattacaagcagcttatagagctattcgccacatacctagaagaataagacagggcttggaaaggattttgctataagatgggtggcaagtggtcaaaaagtagtgtgattggatggcctgctgtaagggaaagaatgagacgagctgagccagcagcagatggggtgggagcagtatctcgagacctagaaaaacatggagcaatcacaagtagcaatacagcagctaacaatgctgcttgtgcctggctagaagcacaagaggaggaagaggtgggttttccagtcacacctcaggtacctttaagaccaatgacttacaaggcagctgtagatcttagccactttttaaaagaaaaggggggactggaagggctaattcactcccaaagaagacaagatatccttgatctgtggatctaccacacacaaggctacttccctgattggcagaactacacaccagggccaggggtcagatatccactgacctttggatggtgctacaagctagtaccagttgagccagataaggtagaagaggccaataaaggagagaacaccagcttgttacaccctgtgagcctgcatggaatggatgaccctgagagagaagtgttagagtggaggtttgacagccgcctagcatttcatcacgtggcccgagagctgcatccggagtacttcaagaactgctgacatcgagcttgctacaagggactttccgctggggactttccagggaggcgtggcctgggcgggactggggagtggcgagccctcagatgctgcatataagcagctgctttttgcctgtactgggtctctctggttagaccagatctgagcctgggagctctctggctaactagggaacccactgcttaagcctcaataaagcttgccttgagtgcttcaa']\n"
     ]
    }
   ],
   "source": [
    "# Here's the genome from the FASTA file:\n",
    "with open(reference_fasta_path, 'rt') as file:\n",
    "    # For some reason, file.read() outputs a string including \"\\r\\n\". That's supposed to be a newline separator\n",
    "    fasta_content = file.read().split('\\r\\n')\n",
    "print(fasta_content)\n",
    "reference_genome = fasta_content[1]"
   ]
  },
  {
   "cell_type": "code",
   "execution_count": 274,
   "metadata": {},
   "outputs": [
    {
     "data": {
      "text/plain": [
       "False"
      ]
     },
     "execution_count": 274,
     "metadata": {},
     "output_type": "execute_result"
    }
   ],
   "source": [
    "# Check that events_genome is a subset of the reference genome:\n",
    "events_genome in reference_genome"
   ]
  },
  {
   "cell_type": "code",
   "execution_count": null,
   "metadata": {},
   "outputs": [],
   "source": [
    "# Okay, let's try r\n",
    "events_genome in reference_genome"
   ]
  }
 ],
 "metadata": {
  "kernelspec": {
   "display_name": "Python 2.7 (Conda 5.2) [python/2.7 ]",
   "language": "python",
   "name": "sys_python27conda"
  },
  "language_info": {
   "codemirror_mode": {
    "name": "ipython",
    "version": 2
   },
   "file_extension": ".py",
   "mimetype": "text/x-python",
   "name": "python",
   "nbconvert_exporter": "python",
   "pygments_lexer": "ipython2",
   "version": "2.7.15"
  }
 },
 "nbformat": 4,
 "nbformat_minor": 4
}
